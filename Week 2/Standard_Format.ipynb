{
  "nbformat": 4,
  "nbformat_minor": 0,
  "metadata": {
    "colab": {
      "provenance": []
    },
    "kernelspec": {
      "name": "python3",
      "display_name": "Python 3"
    },
    "language_info": {
      "name": "python"
    }
  },
  "cells": [
    {
      "cell_type": "code",
      "execution_count": null,
      "metadata": {
        "id": "VVEDxoLqVMu8"
      },
      "outputs": [],
      "source": [
        "# Import Libraries\n",
        "import pandas as pd\n",
        "import numpy as np\n",
        "import seaborn as sns\n",
        "import matplotlib.pyplot as plt\n",
        "import warnings\n",
        "import copy"
      ]
    },
    {
      "cell_type": "code",
      "source": [
        "# Loading the dataset\n",
        "variable_name = pd.read_csv('file_name.csv')\n",
        "variable_name = pd.read_excel('file_name.xlsx')\n",
        "variable_name = pd.read_json('file_name.json')"
      ],
      "metadata": {
        "id": "2041fd9sVtDg"
      },
      "execution_count": null,
      "outputs": []
    },
    {
      "cell_type": "code",
      "source": [
        "# See the first 5 rows and last 4 rows in the loaded dataset\n",
        "variable_name.head() # ->  Shows first 5 rows\n",
        "variable_name.tail() # -> Shows last 5 rows"
      ],
      "metadata": {
        "id": "rgpeQjP-WREl"
      },
      "execution_count": null,
      "outputs": []
    },
    {
      "cell_type": "code",
      "source": [
        "# Datatypes\n",
        "variable_name.dtypes"
      ],
      "metadata": {
        "id": "phgXVtudXLs2"
      },
      "execution_count": null,
      "outputs": []
    },
    {
      "cell_type": "code",
      "source": [
        "# How many rows and columns are there\n",
        "variable_name.shape"
      ],
      "metadata": {
        "id": "lr4Bg0yHbAZX"
      },
      "execution_count": null,
      "outputs": []
    },
    {
      "cell_type": "code",
      "source": [
        "# Inspect duplicate records\n",
        "variable_name.duplicated().sum()"
      ],
      "metadata": {
        "id": "d2Bjt_6fnEgL"
      },
      "execution_count": null,
      "outputs": []
    },
    {
      "cell_type": "code",
      "source": [
        "# Inspecting missing values in the dataset\n",
        "variable_name.isna().sum()"
      ],
      "metadata": {
        "id": "Cfv3N3S1Xa3G"
      },
      "execution_count": null,
      "outputs": []
    },
    {
      "cell_type": "code",
      "source": [
        "# Show the box plot for the column where there are missing values\n",
        "sns.boxplot(data= variable_name['Column_1'])"
      ],
      "metadata": {
        "id": "j2vLDydPYBJl"
      },
      "execution_count": null,
      "outputs": []
    },
    {
      "cell_type": "code",
      "source": [
        "# Creating copy of the dataset\n",
        "variable_name_copy = variable_name.copy(deep = True)"
      ],
      "metadata": {
        "id": "9OvK3vgBXp11"
      },
      "execution_count": null,
      "outputs": []
    },
    {
      "cell_type": "code",
      "source": [
        "# Replace missing values with mean of column_1\n",
        "variable_name['column_1'].fillna(df['column_1'].mean(), inplace= True)"
      ],
      "metadata": {
        "id": "NtXF3sTEZDKg"
      },
      "execution_count": null,
      "outputs": []
    },
    {
      "cell_type": "code",
      "source": [
        "# Replace missing values with median of column_1\n",
        "variable_name['column_1'].fillna(df['column_1'].median(), inplace= True)"
      ],
      "metadata": {
        "id": "gqNMtvF9aE-v"
      },
      "execution_count": null,
      "outputs": []
    },
    {
      "cell_type": "code",
      "source": [
        "# Replace missing values with mode of column_1\n",
        "variable_name['column_1'].fillna(df['column_1'].mode(), inplace= True)"
      ],
      "metadata": {
        "id": "Rq8tSNW8aYK2"
      },
      "execution_count": null,
      "outputs": []
    }
  ]
}