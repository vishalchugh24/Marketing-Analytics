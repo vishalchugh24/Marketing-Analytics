{
  "nbformat": 4,
  "nbformat_minor": 0,
  "metadata": {
    "colab": {
      "provenance": []
    },
    "kernelspec": {
      "name": "python3",
      "display_name": "Python 3"
    },
    "language_info": {
      "name": "python"
    }
  },
  "cells": [
    {
      "cell_type": "code",
      "execution_count": null,
      "metadata": {
        "id": "p40ATCnMsN5h"
      },
      "outputs": [],
      "source": [
        "# import the library\n",
        "from cryptography.fernet import Fernet"
      ]
    },
    {
      "cell_type": "code",
      "source": [
        "# generate the key\n",
        "key = Fernet.generate_key()\n",
        "key"
      ],
      "metadata": {
        "colab": {
          "base_uri": "https://localhost:8080/"
        },
        "id": "P554k5vVsr3b",
        "outputId": "4e7bfae3-274b-4adc-c0e8-64d273bf9f32"
      },
      "execution_count": null,
      "outputs": [
        {
          "output_type": "execute_result",
          "data": {
            "text/plain": [
              "b'dHvc7JzqVdC74OZXJizv45F1s3jsN-7cZsMg9N1_yPo='"
            ]
          },
          "metadata": {},
          "execution_count": 2
        }
      ]
    },
    {
      "cell_type": "code",
      "source": [
        "# store the key in a file\n",
        "with open('filekey.key', 'wb') as f:\n",
        "    f.write(key)"
      ],
      "metadata": {
        "id": "2PgdLsj6s40A"
      },
      "execution_count": null,
      "outputs": []
    },
    {
      "cell_type": "code",
      "source": [
        "# read the key file\n",
        "with open('filekey.key', 'rb') as f:\n",
        "    key = f.read()"
      ],
      "metadata": {
        "id": "lNnA6ZtDtDxx"
      },
      "execution_count": null,
      "outputs": []
    },
    {
      "cell_type": "code",
      "source": [
        "# store the key in a variable known as fernet\n",
        "fernet = Fernet(key)"
      ],
      "metadata": {
        "id": "QjT5VFi2tI1A"
      },
      "execution_count": null,
      "outputs": []
    },
    {
      "cell_type": "code",
      "source": [
        "# Open the dataset\n",
        "with open('customer_profile.csv', 'rb') as f:\n",
        "    customer_profile = f.read()\n",
        "with open('transaction_data.csv', 'rb') as f:\n",
        "    transaction_data = f.read()\n"
      ],
      "metadata": {
        "id": "6aUhwhIftgRJ"
      },
      "execution_count": null,
      "outputs": []
    },
    {
      "cell_type": "code",
      "source": [
        "# Encrypt the data\n",
        "encrypt_customer_profile = fernet.encrypt(customer_profile)\n",
        "encrypt_transaction_data = fernet.encrypt(transaction_data)"
      ],
      "metadata": {
        "id": "PwzV-ht8t6dy"
      },
      "execution_count": null,
      "outputs": []
    },
    {
      "cell_type": "code",
      "source": [
        "# Overwrite the data with encryption\n",
        "with open('customer_profile.csv', 'wb') as f:\n",
        "    f.write(encrypt_customer_profile)\n",
        "with open('transaction_data.csv', 'wb') as f:\n",
        "    f.write(encrypt_transaction_data)"
      ],
      "metadata": {
        "id": "G5D7b_rnuclg"
      },
      "execution_count": null,
      "outputs": []
    },
    {
      "cell_type": "markdown",
      "source": [
        "<center><b>Encryption Process is Successful</b></center>"
      ],
      "metadata": {
        "id": "qeUsYF_aukgL"
      }
    }
  ]
}