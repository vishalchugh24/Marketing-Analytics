{
  "nbformat": 4,
  "nbformat_minor": 0,
  "metadata": {
    "colab": {
      "provenance": []
    },
    "kernelspec": {
      "name": "python3",
      "display_name": "Python 3"
    },
    "language_info": {
      "name": "python"
    }
  },
  "cells": [
    {
      "cell_type": "code",
      "execution_count": 7,
      "metadata": {
        "id": "fBLyZvYrd2hK"
      },
      "outputs": [],
      "source": [
        "# Import the library\n",
        "from cryptography.fernet import Fernet"
      ]
    },
    {
      "cell_type": "code",
      "source": [
        "# generate a key\n",
        "key = Fernet.generate_key()"
      ],
      "metadata": {
        "id": "CM5CslmLd_QL"
      },
      "execution_count": 8,
      "outputs": []
    },
    {
      "cell_type": "code",
      "source": [
        "# print the key\n",
        "print(\"The key value is:\", key)"
      ],
      "metadata": {
        "colab": {
          "base_uri": "https://localhost:8080/"
        },
        "id": "qtFVYGEfeSOR",
        "outputId": "e586fa63-408f-4a51-c88f-14369faf2c75"
      },
      "execution_count": 9,
      "outputs": [
        {
          "output_type": "stream",
          "name": "stdout",
          "text": [
            "The key value is: b'nO5EyMv8cgnq7XhfTyJ5qHcNy_YFfNzs5qzxa0OoLKA='\n"
          ]
        }
      ]
    },
    {
      "cell_type": "code",
      "source": [
        "# store this key in a file\n",
        "with open('filekey.key', 'wb') as f:\n",
        "  f.write(key)"
      ],
      "metadata": {
        "id": "5SNhM72ZeWMR"
      },
      "execution_count": 10,
      "outputs": []
    },
    {
      "cell_type": "code",
      "source": [
        "# open the data files\n",
        "with open('trendmart_customer_persona_quantitative.csv' , 'rb') as f:\n",
        "  quant_data = f.read()\n",
        "with open('trendmart_customer_persona_qualitative.csv', 'rb') as f:\n",
        "  quali_data = f.read()"
      ],
      "metadata": {
        "id": "uQV5yZj_elrh"
      },
      "execution_count": 11,
      "outputs": []
    },
    {
      "cell_type": "code",
      "source": [
        "# create an object\n",
        "fernet = Fernet(key)"
      ],
      "metadata": {
        "id": "6HRfgemUfaYh"
      },
      "execution_count": 12,
      "outputs": []
    },
    {
      "cell_type": "code",
      "source": [
        "# encrypting the data\n",
        "encrypted_quant = fernet.encrypt(quant_data)\n",
        "encrypted_quali = fernet.encrypt(quali_data)"
      ],
      "metadata": {
        "id": "jbqcjcNlfyQi"
      },
      "execution_count": 13,
      "outputs": []
    },
    {
      "cell_type": "code",
      "source": [
        "# overwrite the data with encrypted data\n",
        "with open('trendmart_customer_persona_quantitative.csv', 'wb') as f:\n",
        "  f.write(encrypted_quant)\n",
        "with open('trendmart_customer_persona_qualitative.csv', 'wb') as f:\n",
        "  f.write(encrypted_quali)"
      ],
      "metadata": {
        "id": "pSB9ijKogG_7"
      },
      "execution_count": 14,
      "outputs": []
    },
    {
      "cell_type": "code",
      "source": [],
      "metadata": {
        "id": "zdLs_jNBgZAD"
      },
      "execution_count": null,
      "outputs": []
    }
  ]
}