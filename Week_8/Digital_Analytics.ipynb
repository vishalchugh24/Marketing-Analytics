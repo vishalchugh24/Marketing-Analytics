{
  "nbformat": 4,
  "nbformat_minor": 0,
  "metadata": {
    "colab": {
      "provenance": []
    },
    "kernelspec": {
      "name": "python3",
      "display_name": "Python 3"
    },
    "language_info": {
      "name": "python"
    }
  },
  "cells": [
    {
      "cell_type": "code",
      "execution_count": null,
      "metadata": {
        "id": "Y1xa2cYJtDN9"
      },
      "outputs": [],
      "source": [
        "# import libraries\n",
        "from cryptography.fernet import Fernet\n",
        "import pandas as pd\n",
        "import matplotlib.pyplot as plt"
      ]
    },
    {
      "cell_type": "code",
      "source": [
        "# open the key file\n",
        "with open('filekey.key', 'rb') as f:\n",
        "  key = f.read()"
      ],
      "metadata": {
        "id": "deeXCAgu3X33"
      },
      "execution_count": null,
      "outputs": []
    },
    {
      "cell_type": "code",
      "source": [
        "# open the datafile\n",
        "with open('marketing_dataset.csv', 'rb') as f:\n",
        "  data = f.read()"
      ],
      "metadata": {
        "id": "meBv2seY3uZ2"
      },
      "execution_count": null,
      "outputs": []
    },
    {
      "cell_type": "code",
      "source": [
        "# store it in fernet\n",
        "fernet = Fernet(key)"
      ],
      "metadata": {
        "id": "QFZZVgZU3sBe"
      },
      "execution_count": null,
      "outputs": []
    },
    {
      "cell_type": "code",
      "source": [
        "# Decryption\n",
        "decrypt_data = fernet.decrypt(data)"
      ],
      "metadata": {
        "id": "D0MEucKs30cG"
      },
      "execution_count": null,
      "outputs": []
    },
    {
      "cell_type": "code",
      "source": [
        "# Overwrite\n",
        "with open('marketing_dataset.csv', 'wb') as f:\n",
        "  f.write(decrypt_data)"
      ],
      "metadata": {
        "id": "K7HnqEuP33b2"
      },
      "execution_count": null,
      "outputs": []
    },
    {
      "cell_type": "code",
      "source": [
        "# load the data\n",
        "digital = pd.read_csv('marketing_dataset.csv')\n",
        "digital.head()"
      ],
      "metadata": {
        "colab": {
          "base_uri": "https://localhost:8080/",
          "height": 255
        },
        "id": "wNYQWiJq3-Am",
        "outputId": "50201bfb-da4d-4355-8f88-538f0dd075c1"
      },
      "execution_count": null,
      "outputs": [
        {
          "output_type": "execute_result",
          "data": {
            "text/plain": [
              "    session_id     user_id session_date   channel   device  is_mobile  \\\n",
              "0  sess_000001  user_15796   28-03-2025   Organic  Desktop          0   \n",
              "1  sess_000002    user_861   04-09-2025  Referral  Desktop          0   \n",
              "2  sess_000003  user_54887   14-07-2025    Direct  Desktop          0   \n",
              "3  sess_000004   user_6266   18-02-2025    Social   Mobile          1   \n",
              "4  sess_000005  user_37195   26-07-2025   Organic   Mobile          1   \n",
              "\n",
              "  mobile_os  pageviews  session_duration_sec  bounce  ...  action  \\\n",
              "0       NaN          2                   196       0  ...       0   \n",
              "1       NaN          1                    51       0  ...       0   \n",
              "2       NaN          2                    47       0  ...       0   \n",
              "3   Android          2                    44       0  ...       0   \n",
              "4   Android          4                     5       0  ...       0   \n",
              "\n",
              "   purchase_amount  email_sent  email_opens  email_clicks  email_unsubscribes  \\\n",
              "0              0.0           0            0             0                   0   \n",
              "1              0.0           0            0             0                   0   \n",
              "2              0.0           0            0             0                   0   \n",
              "3              0.0           0            0             0                   0   \n",
              "4              0.0           0            0             0                   0   \n",
              "\n",
              "   app_user  app_installed  push_sent push_clicks  \n",
              "0         0              0          0           0  \n",
              "1         0              0          0           0  \n",
              "2         0              0          0           0  \n",
              "3         0              0          0           0  \n",
              "4         0              0          0           0  \n",
              "\n",
              "[5 rows x 33 columns]"
            ],
            "text/html": [
              "\n",
              "  <div id=\"df-9ba3c6e7-33c6-458b-989a-658f82a031e6\" class=\"colab-df-container\">\n",
              "    <div>\n",
              "<style scoped>\n",
              "    .dataframe tbody tr th:only-of-type {\n",
              "        vertical-align: middle;\n",
              "    }\n",
              "\n",
              "    .dataframe tbody tr th {\n",
              "        vertical-align: top;\n",
              "    }\n",
              "\n",
              "    .dataframe thead th {\n",
              "        text-align: right;\n",
              "    }\n",
              "</style>\n",
              "<table border=\"1\" class=\"dataframe\">\n",
              "  <thead>\n",
              "    <tr style=\"text-align: right;\">\n",
              "      <th></th>\n",
              "      <th>session_id</th>\n",
              "      <th>user_id</th>\n",
              "      <th>session_date</th>\n",
              "      <th>channel</th>\n",
              "      <th>device</th>\n",
              "      <th>is_mobile</th>\n",
              "      <th>mobile_os</th>\n",
              "      <th>pageviews</th>\n",
              "      <th>session_duration_sec</th>\n",
              "      <th>bounce</th>\n",
              "      <th>...</th>\n",
              "      <th>action</th>\n",
              "      <th>purchase_amount</th>\n",
              "      <th>email_sent</th>\n",
              "      <th>email_opens</th>\n",
              "      <th>email_clicks</th>\n",
              "      <th>email_unsubscribes</th>\n",
              "      <th>app_user</th>\n",
              "      <th>app_installed</th>\n",
              "      <th>push_sent</th>\n",
              "      <th>push_clicks</th>\n",
              "    </tr>\n",
              "  </thead>\n",
              "  <tbody>\n",
              "    <tr>\n",
              "      <th>0</th>\n",
              "      <td>sess_000001</td>\n",
              "      <td>user_15796</td>\n",
              "      <td>28-03-2025</td>\n",
              "      <td>Organic</td>\n",
              "      <td>Desktop</td>\n",
              "      <td>0</td>\n",
              "      <td>NaN</td>\n",
              "      <td>2</td>\n",
              "      <td>196</td>\n",
              "      <td>0</td>\n",
              "      <td>...</td>\n",
              "      <td>0</td>\n",
              "      <td>0.0</td>\n",
              "      <td>0</td>\n",
              "      <td>0</td>\n",
              "      <td>0</td>\n",
              "      <td>0</td>\n",
              "      <td>0</td>\n",
              "      <td>0</td>\n",
              "      <td>0</td>\n",
              "      <td>0</td>\n",
              "    </tr>\n",
              "    <tr>\n",
              "      <th>1</th>\n",
              "      <td>sess_000002</td>\n",
              "      <td>user_861</td>\n",
              "      <td>04-09-2025</td>\n",
              "      <td>Referral</td>\n",
              "      <td>Desktop</td>\n",
              "      <td>0</td>\n",
              "      <td>NaN</td>\n",
              "      <td>1</td>\n",
              "      <td>51</td>\n",
              "      <td>0</td>\n",
              "      <td>...</td>\n",
              "      <td>0</td>\n",
              "      <td>0.0</td>\n",
              "      <td>0</td>\n",
              "      <td>0</td>\n",
              "      <td>0</td>\n",
              "      <td>0</td>\n",
              "      <td>0</td>\n",
              "      <td>0</td>\n",
              "      <td>0</td>\n",
              "      <td>0</td>\n",
              "    </tr>\n",
              "    <tr>\n",
              "      <th>2</th>\n",
              "      <td>sess_000003</td>\n",
              "      <td>user_54887</td>\n",
              "      <td>14-07-2025</td>\n",
              "      <td>Direct</td>\n",
              "      <td>Desktop</td>\n",
              "      <td>0</td>\n",
              "      <td>NaN</td>\n",
              "      <td>2</td>\n",
              "      <td>47</td>\n",
              "      <td>0</td>\n",
              "      <td>...</td>\n",
              "      <td>0</td>\n",
              "      <td>0.0</td>\n",
              "      <td>0</td>\n",
              "      <td>0</td>\n",
              "      <td>0</td>\n",
              "      <td>0</td>\n",
              "      <td>0</td>\n",
              "      <td>0</td>\n",
              "      <td>0</td>\n",
              "      <td>0</td>\n",
              "    </tr>\n",
              "    <tr>\n",
              "      <th>3</th>\n",
              "      <td>sess_000004</td>\n",
              "      <td>user_6266</td>\n",
              "      <td>18-02-2025</td>\n",
              "      <td>Social</td>\n",
              "      <td>Mobile</td>\n",
              "      <td>1</td>\n",
              "      <td>Android</td>\n",
              "      <td>2</td>\n",
              "      <td>44</td>\n",
              "      <td>0</td>\n",
              "      <td>...</td>\n",
              "      <td>0</td>\n",
              "      <td>0.0</td>\n",
              "      <td>0</td>\n",
              "      <td>0</td>\n",
              "      <td>0</td>\n",
              "      <td>0</td>\n",
              "      <td>0</td>\n",
              "      <td>0</td>\n",
              "      <td>0</td>\n",
              "      <td>0</td>\n",
              "    </tr>\n",
              "    <tr>\n",
              "      <th>4</th>\n",
              "      <td>sess_000005</td>\n",
              "      <td>user_37195</td>\n",
              "      <td>26-07-2025</td>\n",
              "      <td>Organic</td>\n",
              "      <td>Mobile</td>\n",
              "      <td>1</td>\n",
              "      <td>Android</td>\n",
              "      <td>4</td>\n",
              "      <td>5</td>\n",
              "      <td>0</td>\n",
              "      <td>...</td>\n",
              "      <td>0</td>\n",
              "      <td>0.0</td>\n",
              "      <td>0</td>\n",
              "      <td>0</td>\n",
              "      <td>0</td>\n",
              "      <td>0</td>\n",
              "      <td>0</td>\n",
              "      <td>0</td>\n",
              "      <td>0</td>\n",
              "      <td>0</td>\n",
              "    </tr>\n",
              "  </tbody>\n",
              "</table>\n",
              "<p>5 rows × 33 columns</p>\n",
              "</div>\n",
              "    <div class=\"colab-df-buttons\">\n",
              "\n",
              "  <div class=\"colab-df-container\">\n",
              "    <button class=\"colab-df-convert\" onclick=\"convertToInteractive('df-9ba3c6e7-33c6-458b-989a-658f82a031e6')\"\n",
              "            title=\"Convert this dataframe to an interactive table.\"\n",
              "            style=\"display:none;\">\n",
              "\n",
              "  <svg xmlns=\"http://www.w3.org/2000/svg\" height=\"24px\" viewBox=\"0 -960 960 960\">\n",
              "    <path d=\"M120-120v-720h720v720H120Zm60-500h600v-160H180v160Zm220 220h160v-160H400v160Zm0 220h160v-160H400v160ZM180-400h160v-160H180v160Zm440 0h160v-160H620v160ZM180-180h160v-160H180v160Zm440 0h160v-160H620v160Z\"/>\n",
              "  </svg>\n",
              "    </button>\n",
              "\n",
              "  <style>\n",
              "    .colab-df-container {\n",
              "      display:flex;\n",
              "      gap: 12px;\n",
              "    }\n",
              "\n",
              "    .colab-df-convert {\n",
              "      background-color: #E8F0FE;\n",
              "      border: none;\n",
              "      border-radius: 50%;\n",
              "      cursor: pointer;\n",
              "      display: none;\n",
              "      fill: #1967D2;\n",
              "      height: 32px;\n",
              "      padding: 0 0 0 0;\n",
              "      width: 32px;\n",
              "    }\n",
              "\n",
              "    .colab-df-convert:hover {\n",
              "      background-color: #E2EBFA;\n",
              "      box-shadow: 0px 1px 2px rgba(60, 64, 67, 0.3), 0px 1px 3px 1px rgba(60, 64, 67, 0.15);\n",
              "      fill: #174EA6;\n",
              "    }\n",
              "\n",
              "    .colab-df-buttons div {\n",
              "      margin-bottom: 4px;\n",
              "    }\n",
              "\n",
              "    [theme=dark] .colab-df-convert {\n",
              "      background-color: #3B4455;\n",
              "      fill: #D2E3FC;\n",
              "    }\n",
              "\n",
              "    [theme=dark] .colab-df-convert:hover {\n",
              "      background-color: #434B5C;\n",
              "      box-shadow: 0px 1px 3px 1px rgba(0, 0, 0, 0.15);\n",
              "      filter: drop-shadow(0px 1px 2px rgba(0, 0, 0, 0.3));\n",
              "      fill: #FFFFFF;\n",
              "    }\n",
              "  </style>\n",
              "\n",
              "    <script>\n",
              "      const buttonEl =\n",
              "        document.querySelector('#df-9ba3c6e7-33c6-458b-989a-658f82a031e6 button.colab-df-convert');\n",
              "      buttonEl.style.display =\n",
              "        google.colab.kernel.accessAllowed ? 'block' : 'none';\n",
              "\n",
              "      async function convertToInteractive(key) {\n",
              "        const element = document.querySelector('#df-9ba3c6e7-33c6-458b-989a-658f82a031e6');\n",
              "        const dataTable =\n",
              "          await google.colab.kernel.invokeFunction('convertToInteractive',\n",
              "                                                    [key], {});\n",
              "        if (!dataTable) return;\n",
              "\n",
              "        const docLinkHtml = 'Like what you see? Visit the ' +\n",
              "          '<a target=\"_blank\" href=https://colab.research.google.com/notebooks/data_table.ipynb>data table notebook</a>'\n",
              "          + ' to learn more about interactive tables.';\n",
              "        element.innerHTML = '';\n",
              "        dataTable['output_type'] = 'display_data';\n",
              "        await google.colab.output.renderOutput(dataTable, element);\n",
              "        const docLink = document.createElement('div');\n",
              "        docLink.innerHTML = docLinkHtml;\n",
              "        element.appendChild(docLink);\n",
              "      }\n",
              "    </script>\n",
              "  </div>\n",
              "\n",
              "\n",
              "    <div id=\"df-8ea48f47-538f-4fff-a665-0823c89898dc\">\n",
              "      <button class=\"colab-df-quickchart\" onclick=\"quickchart('df-8ea48f47-538f-4fff-a665-0823c89898dc')\"\n",
              "                title=\"Suggest charts\"\n",
              "                style=\"display:none;\">\n",
              "\n",
              "<svg xmlns=\"http://www.w3.org/2000/svg\" height=\"24px\"viewBox=\"0 0 24 24\"\n",
              "     width=\"24px\">\n",
              "    <g>\n",
              "        <path d=\"M19 3H5c-1.1 0-2 .9-2 2v14c0 1.1.9 2 2 2h14c1.1 0 2-.9 2-2V5c0-1.1-.9-2-2-2zM9 17H7v-7h2v7zm4 0h-2V7h2v10zm4 0h-2v-4h2v4z\"/>\n",
              "    </g>\n",
              "</svg>\n",
              "      </button>\n",
              "\n",
              "<style>\n",
              "  .colab-df-quickchart {\n",
              "      --bg-color: #E8F0FE;\n",
              "      --fill-color: #1967D2;\n",
              "      --hover-bg-color: #E2EBFA;\n",
              "      --hover-fill-color: #174EA6;\n",
              "      --disabled-fill-color: #AAA;\n",
              "      --disabled-bg-color: #DDD;\n",
              "  }\n",
              "\n",
              "  [theme=dark] .colab-df-quickchart {\n",
              "      --bg-color: #3B4455;\n",
              "      --fill-color: #D2E3FC;\n",
              "      --hover-bg-color: #434B5C;\n",
              "      --hover-fill-color: #FFFFFF;\n",
              "      --disabled-bg-color: #3B4455;\n",
              "      --disabled-fill-color: #666;\n",
              "  }\n",
              "\n",
              "  .colab-df-quickchart {\n",
              "    background-color: var(--bg-color);\n",
              "    border: none;\n",
              "    border-radius: 50%;\n",
              "    cursor: pointer;\n",
              "    display: none;\n",
              "    fill: var(--fill-color);\n",
              "    height: 32px;\n",
              "    padding: 0;\n",
              "    width: 32px;\n",
              "  }\n",
              "\n",
              "  .colab-df-quickchart:hover {\n",
              "    background-color: var(--hover-bg-color);\n",
              "    box-shadow: 0 1px 2px rgba(60, 64, 67, 0.3), 0 1px 3px 1px rgba(60, 64, 67, 0.15);\n",
              "    fill: var(--button-hover-fill-color);\n",
              "  }\n",
              "\n",
              "  .colab-df-quickchart-complete:disabled,\n",
              "  .colab-df-quickchart-complete:disabled:hover {\n",
              "    background-color: var(--disabled-bg-color);\n",
              "    fill: var(--disabled-fill-color);\n",
              "    box-shadow: none;\n",
              "  }\n",
              "\n",
              "  .colab-df-spinner {\n",
              "    border: 2px solid var(--fill-color);\n",
              "    border-color: transparent;\n",
              "    border-bottom-color: var(--fill-color);\n",
              "    animation:\n",
              "      spin 1s steps(1) infinite;\n",
              "  }\n",
              "\n",
              "  @keyframes spin {\n",
              "    0% {\n",
              "      border-color: transparent;\n",
              "      border-bottom-color: var(--fill-color);\n",
              "      border-left-color: var(--fill-color);\n",
              "    }\n",
              "    20% {\n",
              "      border-color: transparent;\n",
              "      border-left-color: var(--fill-color);\n",
              "      border-top-color: var(--fill-color);\n",
              "    }\n",
              "    30% {\n",
              "      border-color: transparent;\n",
              "      border-left-color: var(--fill-color);\n",
              "      border-top-color: var(--fill-color);\n",
              "      border-right-color: var(--fill-color);\n",
              "    }\n",
              "    40% {\n",
              "      border-color: transparent;\n",
              "      border-right-color: var(--fill-color);\n",
              "      border-top-color: var(--fill-color);\n",
              "    }\n",
              "    60% {\n",
              "      border-color: transparent;\n",
              "      border-right-color: var(--fill-color);\n",
              "    }\n",
              "    80% {\n",
              "      border-color: transparent;\n",
              "      border-right-color: var(--fill-color);\n",
              "      border-bottom-color: var(--fill-color);\n",
              "    }\n",
              "    90% {\n",
              "      border-color: transparent;\n",
              "      border-bottom-color: var(--fill-color);\n",
              "    }\n",
              "  }\n",
              "</style>\n",
              "\n",
              "      <script>\n",
              "        async function quickchart(key) {\n",
              "          const quickchartButtonEl =\n",
              "            document.querySelector('#' + key + ' button');\n",
              "          quickchartButtonEl.disabled = true;  // To prevent multiple clicks.\n",
              "          quickchartButtonEl.classList.add('colab-df-spinner');\n",
              "          try {\n",
              "            const charts = await google.colab.kernel.invokeFunction(\n",
              "                'suggestCharts', [key], {});\n",
              "          } catch (error) {\n",
              "            console.error('Error during call to suggestCharts:', error);\n",
              "          }\n",
              "          quickchartButtonEl.classList.remove('colab-df-spinner');\n",
              "          quickchartButtonEl.classList.add('colab-df-quickchart-complete');\n",
              "        }\n",
              "        (() => {\n",
              "          let quickchartButtonEl =\n",
              "            document.querySelector('#df-8ea48f47-538f-4fff-a665-0823c89898dc button');\n",
              "          quickchartButtonEl.style.display =\n",
              "            google.colab.kernel.accessAllowed ? 'block' : 'none';\n",
              "        })();\n",
              "      </script>\n",
              "    </div>\n",
              "\n",
              "    </div>\n",
              "  </div>\n"
            ],
            "application/vnd.google.colaboratory.intrinsic+json": {
              "type": "dataframe",
              "variable_name": "digital"
            }
          },
          "metadata": {},
          "execution_count": 14
        }
      ]
    },
    {
      "cell_type": "code",
      "source": [
        "# shape of the data\n",
        "digital.shape"
      ],
      "metadata": {
        "colab": {
          "base_uri": "https://localhost:8080/"
        },
        "id": "a7o4Jp6R4EwO",
        "outputId": "8a860dc4-781f-4da6-c536-8423b4b01971"
      },
      "execution_count": null,
      "outputs": [
        {
          "output_type": "execute_result",
          "data": {
            "text/plain": [
              "(100000, 33)"
            ]
          },
          "metadata": {},
          "execution_count": 15
        }
      ]
    },
    {
      "cell_type": "code",
      "source": [
        "# Missing Values\n",
        "digital.isna().sum()"
      ],
      "metadata": {
        "colab": {
          "base_uri": "https://localhost:8080/",
          "height": 1000
        },
        "id": "iLnADHvz4T1A",
        "outputId": "e1a21cfd-344c-48fd-be87-cae68fd22fd7"
      },
      "execution_count": null,
      "outputs": [
        {
          "output_type": "execute_result",
          "data": {
            "text/plain": [
              "session_id                  0\n",
              "user_id                     0\n",
              "session_date                0\n",
              "channel                     0\n",
              "device                      0\n",
              "is_mobile                   0\n",
              "mobile_os               50193\n",
              "pageviews                   0\n",
              "session_duration_sec        0\n",
              "bounce                      0\n",
              "ad_impressions              0\n",
              "ad_clicks                   0\n",
              "social_impressions          0\n",
              "social_reach                0\n",
              "social_likes                0\n",
              "social_comments             0\n",
              "social_shares               0\n",
              "social_engagements          0\n",
              "sentiment_score             0\n",
              "sentiment_label             0\n",
              "awareness                   0\n",
              "interest                    0\n",
              "desire                      0\n",
              "action                      0\n",
              "purchase_amount             0\n",
              "email_sent                  0\n",
              "email_opens                 0\n",
              "email_clicks                0\n",
              "email_unsubscribes          0\n",
              "app_user                    0\n",
              "app_installed               0\n",
              "push_sent                   0\n",
              "push_clicks                 0\n",
              "dtype: int64"
            ],
            "text/html": [
              "<div>\n",
              "<style scoped>\n",
              "    .dataframe tbody tr th:only-of-type {\n",
              "        vertical-align: middle;\n",
              "    }\n",
              "\n",
              "    .dataframe tbody tr th {\n",
              "        vertical-align: top;\n",
              "    }\n",
              "\n",
              "    .dataframe thead th {\n",
              "        text-align: right;\n",
              "    }\n",
              "</style>\n",
              "<table border=\"1\" class=\"dataframe\">\n",
              "  <thead>\n",
              "    <tr style=\"text-align: right;\">\n",
              "      <th></th>\n",
              "      <th>0</th>\n",
              "    </tr>\n",
              "  </thead>\n",
              "  <tbody>\n",
              "    <tr>\n",
              "      <th>session_id</th>\n",
              "      <td>0</td>\n",
              "    </tr>\n",
              "    <tr>\n",
              "      <th>user_id</th>\n",
              "      <td>0</td>\n",
              "    </tr>\n",
              "    <tr>\n",
              "      <th>session_date</th>\n",
              "      <td>0</td>\n",
              "    </tr>\n",
              "    <tr>\n",
              "      <th>channel</th>\n",
              "      <td>0</td>\n",
              "    </tr>\n",
              "    <tr>\n",
              "      <th>device</th>\n",
              "      <td>0</td>\n",
              "    </tr>\n",
              "    <tr>\n",
              "      <th>is_mobile</th>\n",
              "      <td>0</td>\n",
              "    </tr>\n",
              "    <tr>\n",
              "      <th>mobile_os</th>\n",
              "      <td>50193</td>\n",
              "    </tr>\n",
              "    <tr>\n",
              "      <th>pageviews</th>\n",
              "      <td>0</td>\n",
              "    </tr>\n",
              "    <tr>\n",
              "      <th>session_duration_sec</th>\n",
              "      <td>0</td>\n",
              "    </tr>\n",
              "    <tr>\n",
              "      <th>bounce</th>\n",
              "      <td>0</td>\n",
              "    </tr>\n",
              "    <tr>\n",
              "      <th>ad_impressions</th>\n",
              "      <td>0</td>\n",
              "    </tr>\n",
              "    <tr>\n",
              "      <th>ad_clicks</th>\n",
              "      <td>0</td>\n",
              "    </tr>\n",
              "    <tr>\n",
              "      <th>social_impressions</th>\n",
              "      <td>0</td>\n",
              "    </tr>\n",
              "    <tr>\n",
              "      <th>social_reach</th>\n",
              "      <td>0</td>\n",
              "    </tr>\n",
              "    <tr>\n",
              "      <th>social_likes</th>\n",
              "      <td>0</td>\n",
              "    </tr>\n",
              "    <tr>\n",
              "      <th>social_comments</th>\n",
              "      <td>0</td>\n",
              "    </tr>\n",
              "    <tr>\n",
              "      <th>social_shares</th>\n",
              "      <td>0</td>\n",
              "    </tr>\n",
              "    <tr>\n",
              "      <th>social_engagements</th>\n",
              "      <td>0</td>\n",
              "    </tr>\n",
              "    <tr>\n",
              "      <th>sentiment_score</th>\n",
              "      <td>0</td>\n",
              "    </tr>\n",
              "    <tr>\n",
              "      <th>sentiment_label</th>\n",
              "      <td>0</td>\n",
              "    </tr>\n",
              "    <tr>\n",
              "      <th>awareness</th>\n",
              "      <td>0</td>\n",
              "    </tr>\n",
              "    <tr>\n",
              "      <th>interest</th>\n",
              "      <td>0</td>\n",
              "    </tr>\n",
              "    <tr>\n",
              "      <th>desire</th>\n",
              "      <td>0</td>\n",
              "    </tr>\n",
              "    <tr>\n",
              "      <th>action</th>\n",
              "      <td>0</td>\n",
              "    </tr>\n",
              "    <tr>\n",
              "      <th>purchase_amount</th>\n",
              "      <td>0</td>\n",
              "    </tr>\n",
              "    <tr>\n",
              "      <th>email_sent</th>\n",
              "      <td>0</td>\n",
              "    </tr>\n",
              "    <tr>\n",
              "      <th>email_opens</th>\n",
              "      <td>0</td>\n",
              "    </tr>\n",
              "    <tr>\n",
              "      <th>email_clicks</th>\n",
              "      <td>0</td>\n",
              "    </tr>\n",
              "    <tr>\n",
              "      <th>email_unsubscribes</th>\n",
              "      <td>0</td>\n",
              "    </tr>\n",
              "    <tr>\n",
              "      <th>app_user</th>\n",
              "      <td>0</td>\n",
              "    </tr>\n",
              "    <tr>\n",
              "      <th>app_installed</th>\n",
              "      <td>0</td>\n",
              "    </tr>\n",
              "    <tr>\n",
              "      <th>push_sent</th>\n",
              "      <td>0</td>\n",
              "    </tr>\n",
              "    <tr>\n",
              "      <th>push_clicks</th>\n",
              "      <td>0</td>\n",
              "    </tr>\n",
              "  </tbody>\n",
              "</table>\n",
              "</div><br><label><b>dtype:</b> int64</label>"
            ]
          },
          "metadata": {},
          "execution_count": 16
        }
      ]
    },
    {
      "cell_type": "code",
      "source": [
        "# Missing data\n",
        "missing_rows = digital[digital.isna().any(axis=1)]\n",
        "all_missing_due_desktop_access = (missing_rows['is_mobile'] == 0).all()\n",
        "print(\"Are all missing values only where no purchase happened? :\", all_missing_due_desktop_access)"
      ],
      "metadata": {
        "colab": {
          "base_uri": "https://localhost:8080/"
        },
        "id": "pv1vxy8A4YaW",
        "outputId": "a80c1434-357b-4eae-8308-c98b492c1380"
      },
      "execution_count": null,
      "outputs": [
        {
          "output_type": "stream",
          "name": "stdout",
          "text": [
            "Are all missing values only where no purchase happened? : True\n"
          ]
        }
      ]
    },
    {
      "cell_type": "markdown",
      "source": [
        "LANDING PAGE METRICS"
      ],
      "metadata": {
        "id": "tCMp-lS948QB"
      }
    },
    {
      "cell_type": "code",
      "source": [
        "# mean sessions duration\n",
        "mean_duration = digital['session_duration_sec'].mean()\n",
        "print('The mean duration of the sessions is', round(mean_duration,2))"
      ],
      "metadata": {
        "colab": {
          "base_uri": "https://localhost:8080/"
        },
        "id": "MObF0rUu42bv",
        "outputId": "8cda64b6-11cf-4508-88c3-07bc8f6a16ba"
      },
      "execution_count": null,
      "outputs": [
        {
          "output_type": "stream",
          "name": "stdout",
          "text": [
            "The mean duration of the sessions is 95.9\n"
          ]
        }
      ]
    },
    {
      "cell_type": "code",
      "source": [
        "# Highest Session Duration\n",
        "high_duration = digital['session_duration_sec'].max()\n",
        "print('The highest duration of the sessions is', round(high_duration,2))"
      ],
      "metadata": {
        "colab": {
          "base_uri": "https://localhost:8080/"
        },
        "id": "I6WsD7p_5CpW",
        "outputId": "194a02f9-7916-49f8-f3d8-5d4c7460e540"
      },
      "execution_count": null,
      "outputs": [
        {
          "output_type": "stream",
          "name": "stdout",
          "text": [
            "The highest duration of the sessions is 1921\n"
          ]
        }
      ]
    },
    {
      "cell_type": "code",
      "source": [
        "# Lowest Session Duration\n",
        "lowest_duration = digital['session_duration_sec'].min()\n",
        "print('The lowest duration of the sessions is', round(lowest_duration,2))"
      ],
      "metadata": {
        "colab": {
          "base_uri": "https://localhost:8080/"
        },
        "id": "CmEH0wTk6Xeb",
        "outputId": "75f25f93-084f-4586-c127-534dda1b1c7f"
      },
      "execution_count": null,
      "outputs": [
        {
          "output_type": "stream",
          "name": "stdout",
          "text": [
            "The lowest duration of the sessions is 1\n"
          ]
        }
      ]
    },
    {
      "cell_type": "code",
      "source": [
        "# Bounce Rate\n",
        "single_page_sessions = digital[digital['pageviews'] == 1].shape[0]\n",
        "total_sessions = digital.shape[0]\n",
        "bounce_rate = (single_page_sessions / total_sessions) * 100\n",
        "print('The bounce rate is', round(bounce_rate,2), '%')"
      ],
      "metadata": {
        "colab": {
          "base_uri": "https://localhost:8080/"
        },
        "id": "d9T6bgBh6jEe",
        "outputId": "0ad795f8-7bd0-44e9-e224-69dfb7f2925a"
      },
      "execution_count": null,
      "outputs": [
        {
          "output_type": "stream",
          "name": "stdout",
          "text": [
            "The bounce rate is 10.85 %\n"
          ]
        }
      ]
    },
    {
      "cell_type": "code",
      "source": [
        "# Click Through Rate\n",
        "number_of_clicks = digital['ad_clicks'].sum()\n",
        "number_of_impressions = digital['ad_impressions'].sum()\n",
        "click_through_rate = (number_of_clicks / number_of_impressions) * 100\n",
        "print('The click through rate is', round(click_through_rate,2), '%')"
      ],
      "metadata": {
        "colab": {
          "base_uri": "https://localhost:8080/"
        },
        "id": "vv1DvVBP8Alo",
        "outputId": "f2caa070-9a48-4bce-e6cb-57da32577d0a"
      },
      "execution_count": null,
      "outputs": [
        {
          "output_type": "stream",
          "name": "stdout",
          "text": [
            "The click through rate is 4.51 %\n"
          ]
        }
      ]
    },
    {
      "cell_type": "markdown",
      "source": [
        "SOCIAL MEDIA METRICS"
      ],
      "metadata": {
        "id": "bwu9ma5m9-bg"
      }
    },
    {
      "cell_type": "code",
      "source": [
        "# User Engagement\n",
        "total_engagement = digital['social_likes'].sum() + digital['social_comments'].sum() + digital['social_shares'].sum()\n",
        "social_reach = digital['social_reach'].sum()\n",
        "user_engagement = (total_engagement / social_reach) * 100\n",
        "print('The user engagement is', round(user_engagement,2), '%')"
      ],
      "metadata": {
        "colab": {
          "base_uri": "https://localhost:8080/"
        },
        "id": "dSHH_-sp9AqZ",
        "outputId": "b0cb2c23-61ea-4f8d-b417-0549a920c592"
      },
      "execution_count": null,
      "outputs": [
        {
          "output_type": "stream",
          "name": "stdout",
          "text": [
            "The user engagement is 6.44 %\n"
          ]
        }
      ]
    },
    {
      "cell_type": "code",
      "source": [
        "# Impressions based on users and device\n",
        "digital['total_impressions'] = digital['social_impressions'].sum() + digital['ad_impressions'].sum()\n",
        "impression_device = digital.groupby(['user_id', 'device'])['total_impressions'].sum().sort_values(ascending = False)\n",
        "impression_device.head()"
      ],
      "metadata": {
        "colab": {
          "base_uri": "https://localhost:8080/",
          "height": 272
        },
        "id": "SSL2lz19-t1A",
        "outputId": "83d24016-d90f-41f2-d518-0f0b0cf19086"
      },
      "execution_count": null,
      "outputs": [
        {
          "output_type": "execute_result",
          "data": {
            "text/plain": [
              "user_id     device \n",
              "user_26026  Mobile     101305267\n",
              "user_5802   Mobile     101305267\n",
              "user_61440  Mobile     101305267\n",
              "user_10560  Desktop    101305267\n",
              "user_65264  Mobile      86833086\n",
              "Name: total_impressions, dtype: int64"
            ],
            "text/html": [
              "<div>\n",
              "<style scoped>\n",
              "    .dataframe tbody tr th:only-of-type {\n",
              "        vertical-align: middle;\n",
              "    }\n",
              "\n",
              "    .dataframe tbody tr th {\n",
              "        vertical-align: top;\n",
              "    }\n",
              "\n",
              "    .dataframe thead th {\n",
              "        text-align: right;\n",
              "    }\n",
              "</style>\n",
              "<table border=\"1\" class=\"dataframe\">\n",
              "  <thead>\n",
              "    <tr style=\"text-align: right;\">\n",
              "      <th></th>\n",
              "      <th></th>\n",
              "      <th>total_impressions</th>\n",
              "    </tr>\n",
              "    <tr>\n",
              "      <th>user_id</th>\n",
              "      <th>device</th>\n",
              "      <th></th>\n",
              "    </tr>\n",
              "  </thead>\n",
              "  <tbody>\n",
              "    <tr>\n",
              "      <th>user_26026</th>\n",
              "      <th>Mobile</th>\n",
              "      <td>101305267</td>\n",
              "    </tr>\n",
              "    <tr>\n",
              "      <th>user_5802</th>\n",
              "      <th>Mobile</th>\n",
              "      <td>101305267</td>\n",
              "    </tr>\n",
              "    <tr>\n",
              "      <th>user_61440</th>\n",
              "      <th>Mobile</th>\n",
              "      <td>101305267</td>\n",
              "    </tr>\n",
              "    <tr>\n",
              "      <th>user_10560</th>\n",
              "      <th>Desktop</th>\n",
              "      <td>101305267</td>\n",
              "    </tr>\n",
              "    <tr>\n",
              "      <th>user_65264</th>\n",
              "      <th>Mobile</th>\n",
              "      <td>86833086</td>\n",
              "    </tr>\n",
              "  </tbody>\n",
              "</table>\n",
              "</div><br><label><b>dtype:</b> int64</label>"
            ]
          },
          "metadata": {},
          "execution_count": 24
        }
      ]
    },
    {
      "cell_type": "code",
      "source": [
        "# Reach\n",
        "reach = digital.groupby(['channel', 'device'])['user_id'].nunique().sort_values(ascending = False)\n",
        "print(reach)"
      ],
      "metadata": {
        "colab": {
          "base_uri": "https://localhost:8080/"
        },
        "id": "Mn0j4sf9ArgA",
        "outputId": "9b71e778-bb07-4067-ac28-c589ac4291f6"
      },
      "execution_count": null,
      "outputs": [
        {
          "output_type": "stream",
          "name": "stdout",
          "text": [
            "channel      device \n",
            "Organic      Mobile     13420\n",
            "             Desktop    12379\n",
            "Social       Mobile      9348\n",
            "Paid Search  Mobile      9259\n",
            "Social       Desktop     8509\n",
            "Paid Search  Desktop     8420\n",
            "Direct       Mobile      7203\n",
            "             Desktop     6539\n",
            "Email        Mobile      4779\n",
            "             Desktop     4363\n",
            "Referral     Mobile      2387\n",
            "             Desktop     2169\n",
            "Organic      Tablet      1440\n",
            "Social       Tablet       996\n",
            "Paid Search  Tablet       954\n",
            "Direct       Tablet       768\n",
            "Email        Tablet       500\n",
            "Referral     Tablet       260\n",
            "Name: user_id, dtype: int64\n"
          ]
        }
      ]
    },
    {
      "cell_type": "code",
      "source": [
        "# Virality\n",
        "avg_social_shares = digital['social_shares'].mean()\n",
        "total_users = digital['user_id'].nunique()\n",
        "conversion_rate = (digital['action'] == 1).sum()/total_users\n",
        "Virality = avg_social_shares * conversion_rate\n",
        "print('The virality is', round(Virality,2))"
      ],
      "metadata": {
        "colab": {
          "base_uri": "https://localhost:8080/"
        },
        "id": "4cEHe5JeBsSX",
        "outputId": "a36d69b0-bfdf-4230-b7cc-822299d97f34"
      },
      "execution_count": null,
      "outputs": [
        {
          "output_type": "stream",
          "name": "stdout",
          "text": [
            "The virality is 0.01\n"
          ]
        }
      ]
    },
    {
      "cell_type": "markdown",
      "source": [
        "K < 1 : - Content Not Viral<br>\n",
        "K = 1 : Stable Growth<br>\n",
        "K > 1 : Viral Content"
      ],
      "metadata": {
        "id": "phzgTpwbFK_J"
      }
    },
    {
      "cell_type": "code",
      "source": [
        "# Sentiment\n",
        "sentiment_counts = digital['sentiment_label'].value_counts(normalize =  True) * 100\n",
        "sentiment_counts"
      ],
      "metadata": {
        "id": "SNJ6Pv-KE-tH",
        "colab": {
          "base_uri": "https://localhost:8080/",
          "height": 209
        },
        "outputId": "03680608-8c24-4f2e-c148-bdc3e09a2f25"
      },
      "execution_count": null,
      "outputs": [
        {
          "output_type": "execute_result",
          "data": {
            "text/plain": [
              "sentiment_label\n",
              "neutral     85.846\n",
              "positive     9.244\n",
              "negative     4.910\n",
              "Name: proportion, dtype: float64"
            ],
            "text/html": [
              "<div>\n",
              "<style scoped>\n",
              "    .dataframe tbody tr th:only-of-type {\n",
              "        vertical-align: middle;\n",
              "    }\n",
              "\n",
              "    .dataframe tbody tr th {\n",
              "        vertical-align: top;\n",
              "    }\n",
              "\n",
              "    .dataframe thead th {\n",
              "        text-align: right;\n",
              "    }\n",
              "</style>\n",
              "<table border=\"1\" class=\"dataframe\">\n",
              "  <thead>\n",
              "    <tr style=\"text-align: right;\">\n",
              "      <th></th>\n",
              "      <th>proportion</th>\n",
              "    </tr>\n",
              "    <tr>\n",
              "      <th>sentiment_label</th>\n",
              "      <th></th>\n",
              "    </tr>\n",
              "  </thead>\n",
              "  <tbody>\n",
              "    <tr>\n",
              "      <th>neutral</th>\n",
              "      <td>85.846</td>\n",
              "    </tr>\n",
              "    <tr>\n",
              "      <th>positive</th>\n",
              "      <td>9.244</td>\n",
              "    </tr>\n",
              "    <tr>\n",
              "      <th>negative</th>\n",
              "      <td>4.910</td>\n",
              "    </tr>\n",
              "  </tbody>\n",
              "</table>\n",
              "</div><br><label><b>dtype:</b> float64</label>"
            ]
          },
          "metadata": {},
          "execution_count": 29
        }
      ]
    },
    {
      "cell_type": "code",
      "source": [
        "digital.columns"
      ],
      "metadata": {
        "colab": {
          "base_uri": "https://localhost:8080/"
        },
        "id": "sfvhtJhMBVEK",
        "outputId": "135d0e92-49e1-4a09-a93a-d981394add3e"
      },
      "execution_count": null,
      "outputs": [
        {
          "output_type": "execute_result",
          "data": {
            "text/plain": [
              "Index(['session_id', 'user_id', 'session_date', 'channel', 'device',\n",
              "       'is_mobile', 'mobile_os', 'pageviews', 'session_duration_sec', 'bounce',\n",
              "       'ad_impressions', 'ad_clicks', 'social_impressions', 'social_reach',\n",
              "       'social_likes', 'social_comments', 'social_shares',\n",
              "       'social_engagements', 'sentiment_score', 'sentiment_label', 'awareness',\n",
              "       'interest', 'desire', 'action', 'purchase_amount', 'email_sent',\n",
              "       'email_opens', 'email_clicks', 'email_unsubscribes', 'app_user',\n",
              "       'app_installed', 'push_sent', 'push_clicks', 'total_impressions'],\n",
              "      dtype='object')"
            ]
          },
          "metadata": {},
          "execution_count": 25
        }
      ]
    },
    {
      "cell_type": "markdown",
      "source": [
        "EMAIL MARKETING ANALYTICS"
      ],
      "metadata": {
        "id": "IrgyzBOtllhx"
      }
    },
    {
      "cell_type": "code",
      "source": [
        "# Open Rate\n",
        "email_open_rate = digital['email_opens'].sum()/digital['email_sent'].sum() * 100\n",
        "print('The open rate is', round(email_open_rate,2), '%')"
      ],
      "metadata": {
        "colab": {
          "base_uri": "https://localhost:8080/"
        },
        "id": "nzxTDQQakq0v",
        "outputId": "b9da3b12-1462-44ab-fb13-934d297e30df"
      },
      "execution_count": null,
      "outputs": [
        {
          "output_type": "stream",
          "name": "stdout",
          "text": [
            "The open rate is 24.49 %\n"
          ]
        }
      ]
    },
    {
      "cell_type": "code",
      "source": [
        "# CTR\n",
        "email_click_rate = digital['email_clicks'].sum()/digital['email_sent'].sum() * 100\n",
        "print('The click through rate is', round(email_click_rate,2), '%')"
      ],
      "metadata": {
        "colab": {
          "base_uri": "https://localhost:8080/"
        },
        "id": "mAHcRtz-mgAn",
        "outputId": "b28939f9-eaae-47d2-d6cc-acd46d28babc"
      },
      "execution_count": null,
      "outputs": [
        {
          "output_type": "stream",
          "name": "stdout",
          "text": [
            "The click through rate is 3.21 %\n"
          ]
        }
      ]
    },
    {
      "cell_type": "code",
      "source": [
        "# Unsubscribe Rate\n",
        "unsubscribe_rate = digital['email_unsubscribes'].sum()/digital['email_sent'].sum() * 100\n",
        "print('The unsubscribe rate is', round(unsubscribe_rate,2), '%')"
      ],
      "metadata": {
        "colab": {
          "base_uri": "https://localhost:8080/"
        },
        "id": "TCIBZMlvmsk_",
        "outputId": "648ca504-d491-403e-d045-95460833a82c"
      },
      "execution_count": null,
      "outputs": [
        {
          "output_type": "stream",
          "name": "stdout",
          "text": [
            "The unsubscribe rate is 0.25 %\n"
          ]
        }
      ]
    },
    {
      "cell_type": "markdown",
      "source": [
        "APP ANALYTICS"
      ],
      "metadata": {
        "id": "JvDxlJ_VqbWi"
      }
    },
    {
      "cell_type": "code",
      "source": [
        "# App Usage Rate\n",
        "app_usage_rate = digital['app_user'].sum()/digital['user_id'].nunique() * 100\n",
        "print('The App usege rate is', round(app_usage_rate,2))"
      ],
      "metadata": {
        "colab": {
          "base_uri": "https://localhost:8080/"
        },
        "id": "B6XrjPzXnXzP",
        "outputId": "5725b875-3521-4765-d9f5-2d2bf36f576b"
      },
      "execution_count": null,
      "outputs": [
        {
          "output_type": "stream",
          "name": "stdout",
          "text": [
            "The App usege rate is 7.54\n"
          ]
        }
      ]
    },
    {
      "cell_type": "code",
      "source": [
        "# Push Rate\n",
        "push_rate = digital['push_clicks'].sum()/digital['push_sent'].sum() * 100\n",
        "print(\"The push rate is\", round(push_rate,2))"
      ],
      "metadata": {
        "colab": {
          "base_uri": "https://localhost:8080/"
        },
        "id": "sBd5jxJvpCMf",
        "outputId": "72cd7f54-fa5a-4016-9785-a7c78ea23a79"
      },
      "execution_count": null,
      "outputs": [
        {
          "output_type": "stream",
          "name": "stdout",
          "text": [
            "The push rate is 3.31\n"
          ]
        }
      ]
    },
    {
      "cell_type": "markdown",
      "source": [
        "FUNNEL ANALYTICS"
      ],
      "metadata": {
        "id": "2cXG3ygOqh8J"
      }
    },
    {
      "cell_type": "code",
      "source": [
        "funnel = {'Awareness': digital['awareness'].sum(), 'Interest': digital['interest'].sum(), 'Desire': digital['desire'].sum(), 'Action': digital['action'].sum()}\n",
        "\n",
        "# Calculate percentages\n",
        "total = sum(funnel.values())\n",
        "percentages = [value / total * 100 for value in funnel.values()]\n",
        "\n",
        "# Plot bar chart\n",
        "bars = plt.bar(funnel.keys(), percentages, color='green')\n",
        "plt.title('AIDA Funnel (in %)')\n",
        "plt.ylabel('Percentage (%)')\n",
        "\n",
        "# Add percentage labels directly\n",
        "plt.bar_label(bars, labels=[f\"{p:.1f}%\" for p in percentages], padding=3)\n",
        "\n",
        "plt.show()"
      ],
      "metadata": {
        "colab": {
          "base_uri": "https://localhost:8080/",
          "height": 452
        },
        "id": "Od_Zb716qX13",
        "outputId": "b5a0f711-9e1d-41bc-8e2e-7f2d986cacb5"
      },
      "execution_count": null,
      "outputs": [
        {
          "output_type": "display_data",
          "data": {
            "text/plain": [
              "<Figure size 640x480 with 1 Axes>"
            ],
            "image/png": "[encoded data removed]"
          },
          "metadata": {}
        }
      ]
    }
  ]
}